{
  "nbformat": 4,
  "nbformat_minor": 0,
  "metadata": {
    "colab": {
      "provenance": [],
      "authorship_tag": "ABX9TyOqc7cvkLd5M69mKj4Raz8f",
      "include_colab_link": true
    },
    "kernelspec": {
      "name": "python3",
      "display_name": "Python 3"
    },
    "language_info": {
      "name": "python"
    }
  },
  "cells": [
    {
      "cell_type": "markdown",
      "metadata": {
        "id": "view-in-github",
        "colab_type": "text"
      },
      "source": [
        "<a href=\"https://colab.research.google.com/github/Coreharshit/PYTHON/blob/main/Unit01.ipynb\" target=\"_parent\"><img src=\"https://colab.research.google.com/assets/colab-badge.svg\" alt=\"Open In Colab\"/></a>"
      ]
    },
    {
      "cell_type": "markdown",
      "source": [
        "# Python"
      ],
      "metadata": {
        "id": "YBNh1RMHqehS"
      }
    },
    {
      "cell_type": "markdown",
      "source": [
        "*   created by guido Van Rossum in 1991.\n",
        "*   general purpose,dynamic\n",
        "*   high level,interpreted language\n",
        "*   OOP's support\n",
        "*   easy to learn and understand\n",
        "\n",
        "\n"
      ],
      "metadata": {
        "id": "iLFMThQKqvyM"
      }
    },
    {
      "cell_type": "markdown",
      "source": [
        "Python Applications:-\n",
        "\n",
        "\n",
        "1.   Web development\n",
        "2.   Software development\n",
        "\n",
        "1.   Image Processing application\n",
        "2.   AIML\n",
        "\n",
        "5.   Robotics\n",
        "6.   3D Autocad\n",
        "\n",
        "7.   Desktop Application\n",
        "\n",
        "\n",
        "\n",
        "\n",
        "\n",
        "\n",
        "\n",
        "\n"
      ],
      "metadata": {
        "id": "1DHRa78xrKy8"
      }
    },
    {
      "cell_type": "markdown",
      "source": [
        "**Program lifecycle:-**\n",
        "\n",
        "\n",
        "1.   Start the application\n",
        "2.   Test behaviour\n",
        "\n",
        "1.   Stop the application\n",
        "2.   Edit program code\n",
        "\n",
        "\n",
        "\n"
      ],
      "metadata": {
        "id": "nlxcF4J7sHhE"
      }
    },
    {
      "cell_type": "markdown",
      "source": [
        "## To print data on screen as an output using print() function"
      ],
      "metadata": {
        "id": "wmrVigmNsngq"
      }
    },
    {
      "cell_type": "code",
      "source": [
        "print(\"hello world\")"
      ],
      "metadata": {
        "colab": {
          "base_uri": "https://localhost:8080/"
        },
        "id": "RthL7lVSs-AO",
        "outputId": "e86e68aa-f12d-4212-b2ac-7ae2996e6d3c"
      },
      "execution_count": 1,
      "outputs": [
        {
          "output_type": "stream",
          "name": "stdout",
          "text": [
            "hello world\n"
          ]
        }
      ]
    },
    {
      "cell_type": "markdown",
      "source": [
        "## To take user input"
      ],
      "metadata": {
        "id": "HvTlywfgtFHl"
      }
    },
    {
      "cell_type": "code",
      "source": [
        "a=input(\"enter name\")\n",
        "b=int(input(\"enter age\"))\n",
        "print(a,b)"
      ],
      "metadata": {
        "colab": {
          "base_uri": "https://localhost:8080/"
        },
        "id": "EiBGEFw0tOBp",
        "outputId": "dff08569-54b6-4913-f25b-6ecfe2dd67b9"
      },
      "execution_count": 2,
      "outputs": [
        {
          "output_type": "stream",
          "name": "stdout",
          "text": [
            "enter nameharshit\n",
            "enter age21\n",
            "harshit 21\n"
          ]
        }
      ]
    },
    {
      "cell_type": "markdown",
      "source": [
        "## Datatypes in python\n",
        "It tells us about what type of values are stored in variable.\n",
        "\n",
        "\n",
        "*   Text type : str\n",
        "*   Numeric type : int,float,complex\n",
        "\n",
        "*   Sequencing type : list,tuple,range\n",
        "*   Mapping type : dictionary\n",
        "\n",
        "*   Set type : set,frozenset\n",
        "*   Boolean type : bool\n",
        "\n",
        "*   Binary type : byte,bytearray,memoryview\n",
        "*   None type : None\n",
        "\n",
        "\n",
        "\n",
        "\n",
        "\n"
      ],
      "metadata": {
        "id": "deSzNPHgt54M"
      }
    },
    {
      "cell_type": "markdown",
      "source": [
        "type() function returns what is the datatype of variable\n",
        "\n",
        "\n",
        "*   x=5\n",
        "*   print(type(x)) // integer"
      ],
      "metadata": {
        "id": "h2IRZ0DpvGdd"
      }
    },
    {
      "cell_type": "code",
      "source": [
        "num=5\n",
        "flo=3.9\n",
        "text=\"hello\"\n",
        "is_fun=True\n",
        "print(type(num))\n",
        "print(type(flo))\n",
        "print(type(text))\n",
        "print(type(is_fun))"
      ],
      "metadata": {
        "colab": {
          "base_uri": "https://localhost:8080/"
        },
        "id": "mIwDJH94tEWn",
        "outputId": "a106dada-c120-417b-d8dd-f9e85afe59fd"
      },
      "execution_count": 3,
      "outputs": [
        {
          "output_type": "stream",
          "name": "stdout",
          "text": [
            "<class 'int'>\n",
            "<class 'float'>\n",
            "<class 'str'>\n",
            "<class 'bool'>\n"
          ]
        }
      ]
    },
    {
      "cell_type": "markdown",
      "source": [
        "## Operators In Python\n",
        "Operators to perform operations on variables and values in Python"
      ],
      "metadata": {
        "id": "tblKKFt_vat9"
      }
    },
    {
      "cell_type": "markdown",
      "source": [
        "# Types of Operator :\n",
        "\n",
        "## *   Arithmetic Operator :  \n",
        "   +, - , * , / , % , //\n",
        "## *   Assignment Operator :  \n",
        "= , += , -= , **= , %= , //=\n",
        "## *   Comparison Operator :  \n",
        "== , != , < , > , <= , >=\n",
        "## *   Logical Operator :  \n",
        "  and , or , not\n",
        "## *   Identity Operator :  \n",
        "  is , is not\n",
        "## *   Membership Operator :  \n",
        "  in , not in\n",
        "## *   Bitwise Operator :  \n",
        "  & , | , ^ , << , >>"
      ],
      "metadata": {
        "id": "hbIrXgzjvy6N"
      }
    },
    {
      "cell_type": "markdown",
      "source": [
        "# Type Conversion:\n",
        "direct conversion of one datatype into another datatype.\n",
        "\n",
        "## Types of type coversion :\n",
        "\n",
        "\n",
        "*   Implicit type conversion - automatically done by system\n",
        "*   Explicit type conversion - mannualy done by user"
      ],
      "metadata": {
        "id": "hMMJdXhOzY4A"
      }
    },
    {
      "cell_type": "markdown",
      "source": [
        "Implicit Code:"
      ],
      "metadata": {
        "id": "3xqwY-jd0TZ9"
      }
    },
    {
      "cell_type": "code",
      "source": [
        "a=5\n",
        "b=2\n",
        "print(a/b) #float type produced by user"
      ],
      "metadata": {
        "colab": {
          "base_uri": "https://localhost:8080/"
        },
        "id": "a9nhcqjn0SOq",
        "outputId": "7a590142-9ec0-4d73-d806-d9a3deb0f2e6"
      },
      "execution_count": 4,
      "outputs": [
        {
          "output_type": "stream",
          "name": "stdout",
          "text": [
            "2.5\n"
          ]
        }
      ]
    },
    {
      "cell_type": "markdown",
      "source": [
        "Explicit Code:"
      ],
      "metadata": {
        "id": "FKwYzbZ_0kKU"
      }
    },
    {
      "cell_type": "code",
      "source": [
        "a=5\n",
        "b=2\n",
        "print(int(a/b)) # forced to print int by user"
      ],
      "metadata": {
        "colab": {
          "base_uri": "https://localhost:8080/"
        },
        "id": "Cfyickxb0mVI",
        "outputId": "39f0daed-2e77-4fb9-a66d-ee627262a6c2"
      },
      "execution_count": 5,
      "outputs": [
        {
          "output_type": "stream",
          "name": "stdout",
          "text": [
            "2\n"
          ]
        }
      ]
    },
    {
      "cell_type": "markdown",
      "source": [
        "# ***Function***\n",
        "A function is a block of code which only runs when it is called."
      ],
      "metadata": {
        "id": "-8yGiAYI04Hc"
      }
    },
    {
      "cell_type": "markdown",
      "source": [
        "Creating a function - using def keywords"
      ],
      "metadata": {
        "id": "dd62ELOM1G4I"
      }
    },
    {
      "cell_type": "code",
      "source": [
        "def my_function():\n",
        "  print(\"Hello from a function\")"
      ],
      "metadata": {
        "id": "nfC3zlk81TEc"
      },
      "execution_count": 6,
      "outputs": []
    },
    {
      "cell_type": "markdown",
      "source": [
        "Calling a function"
      ],
      "metadata": {
        "id": "JI2PAi1p1Vxi"
      }
    },
    {
      "cell_type": "code",
      "source": [
        "my_function()"
      ],
      "metadata": {
        "colab": {
          "base_uri": "https://localhost:8080/"
        },
        "id": "xGCUbgAx1Y8a",
        "outputId": "bb2dc528-526a-47c1-a0fb-d9b3ad669965"
      },
      "execution_count": 7,
      "outputs": [
        {
          "output_type": "stream",
          "name": "stdout",
          "text": [
            "Hello from a function\n"
          ]
        }
      ]
    },
    {
      "cell_type": "markdown",
      "source": [
        "## Types of Functions:\n",
        "\n",
        "\n",
        "1.   Built-in library function: These are Standard functions in Python that are available to use.\n",
        "\n",
        "2.   User-defined function: We can create our own functions based on our requirements.\n",
        "\n"
      ],
      "metadata": {
        "id": "kQIwHLfS14Vc"
      }
    },
    {
      "cell_type": "markdown",
      "source": [
        "**Syntax**\n",
        "\n",
        "#def function_name(parameters):\n",
        "#   pass\n",
        "#function_name(arguments)\n",
        "\n",
        "From a function's perspective:\n",
        "\n",
        "A parameter is the variable listed inside the parentheses in the function definition.\n",
        "\n",
        "An argument is the value that are sent to the function when it is called."
      ],
      "metadata": {
        "id": "m6YpGNXP2GBA"
      }
    },
    {
      "cell_type": "markdown",
      "source": [
        "types of function arguments.\n",
        "\n",
        "*   Default argument\n",
        "*   Keyword arguments (named arguments)\n",
        "*   Positional arguments\n",
        "*   Arbitrary arguments (variable-length arguments *args and **kwargs)\n",
        "\n",
        "\n",
        "\n"
      ],
      "metadata": {
        "id": "gmGRgHKw3L5E"
      }
    },
    {
      "cell_type": "markdown",
      "source": [
        "## Default Argument"
      ],
      "metadata": {
        "id": "t5cljRSx3wIy"
      }
    },
    {
      "cell_type": "code",
      "source": [
        "# function with 2 keyword arguments grade and school\n",
        "def student(name, age, grade=\"Five\", school=\"ABC School\"):\n",
        "    print('Student Details:', name, age, grade, school)\n",
        "\n",
        "# without passing grade and school\n",
        "# Passing only the mandatory arguments\n",
        "student('Jon', 12)\n",
        "\n",
        "# Output: Student Details: Jon 12 Five ABC School"
      ],
      "metadata": {
        "colab": {
          "base_uri": "https://localhost:8080/"
        },
        "id": "g6M5gIGv30od",
        "outputId": "cde3d0b1-47ce-4a22-b794-0993d9a7fe86"
      },
      "execution_count": 8,
      "outputs": [
        {
          "output_type": "stream",
          "name": "stdout",
          "text": [
            "Student Details: Jon 12 Five ABC School\n"
          ]
        }
      ]
    },
    {
      "cell_type": "markdown",
      "source": [
        "## Keyword Argument"
      ],
      "metadata": {
        "id": "1eA17tWM36MN"
      }
    },
    {
      "cell_type": "code",
      "source": [
        "# function with 2 keyword arguments\n",
        "def student(name, age):\n",
        "    print('Student Details:', name, age)\n",
        "\n",
        "# default function call\n",
        "student('Jessa', 14)\n",
        "\n",
        "# both keyword arguments\n",
        "student(name='Jon', age=12)\n",
        "\n",
        "# 1 positional and 1 keyword\n",
        "student('Donald', age=13)"
      ],
      "metadata": {
        "colab": {
          "base_uri": "https://localhost:8080/"
        },
        "id": "QpUOGwKh39z5",
        "outputId": "feb7e1a7-c2cf-4ee3-e3bf-21f0fdb69e65"
      },
      "execution_count": 9,
      "outputs": [
        {
          "output_type": "stream",
          "name": "stdout",
          "text": [
            "Student Details: Jessa 14\n",
            "Student Details: Jon 12\n",
            "Student Details: Donald 13\n"
          ]
        }
      ]
    },
    {
      "cell_type": "markdown",
      "source": [
        "## Positional Arguments"
      ],
      "metadata": {
        "id": "pi-bEIBn4Fvh"
      }
    },
    {
      "cell_type": "code",
      "source": [
        "def add(a, b):\n",
        "    print(a - b)\n",
        "\n",
        "add(50, 10)\n",
        "# Output 40\n",
        "\n",
        "add(10, 50)\n",
        "# Output -40"
      ],
      "metadata": {
        "colab": {
          "base_uri": "https://localhost:8080/"
        },
        "id": "YB9cuDSI4FIG",
        "outputId": "42de920f-dafe-4f93-c76a-e321b1391d99"
      },
      "execution_count": 10,
      "outputs": [
        {
          "output_type": "stream",
          "name": "stdout",
          "text": [
            "40\n",
            "-40\n"
          ]
        }
      ]
    },
    {
      "cell_type": "markdown",
      "source": [
        "## Arbitrary Argument"
      ],
      "metadata": {
        "id": "cdk85F5C4VGV"
      }
    },
    {
      "cell_type": "code",
      "source": [
        "# function with variable-length arguments\n",
        "def percentage(*args):\n",
        "    sum = 0\n",
        "    for i in args:\n",
        "        # get total\n",
        "        sum = sum + i\n",
        "    # calculate average\n",
        "    avg = sum / len(args)\n",
        "    print('Average =', avg)\n",
        "\n",
        "percentage(56, 61, 73)"
      ],
      "metadata": {
        "colab": {
          "base_uri": "https://localhost:8080/"
        },
        "id": "uLZfPcLm4aPu",
        "outputId": "b00e4c4e-4f53-4680-be89-3de965d729ef"
      },
      "execution_count": 11,
      "outputs": [
        {
          "output_type": "stream",
          "name": "stdout",
          "text": [
            "Average = 63.333333333333336\n"
          ]
        }
      ]
    },
    {
      "cell_type": "markdown",
      "source": [
        "# Variable\n",
        "\n",
        "\n",
        "*   It is an container used to store values, we do not have to specify the data type of variable before defining variable.\n",
        "*   It is used to allocate memory location to variable values passed in it.\n",
        "\n"
      ],
      "metadata": {
        "id": "QIK-serQ4o9p"
      }
    },
    {
      "cell_type": "markdown",
      "source": [
        "## Rules for Naming Variable\n",
        "\n",
        "*   A variable name must start with a letter or the underscore character.\n",
        "*   A variable name cannot start with a number.\n",
        "*   A variable name can only contain alpha-numeric characters and underscores (A-z, 0-9, and _ )\n",
        "*   Variable names are case-sensitive (age, Age and AGE are three different variables)\n",
        "*   A variable name cannot be any of the Python keywords.\n",
        "\n",
        "Ex:- abc1 , __hello__ , _abc , abc and so on.\n",
        "\n"
      ],
      "metadata": {
        "id": "EA8YBHWW5OCL"
      }
    },
    {
      "cell_type": "code",
      "source": [
        "age=45\n",
        "name=\"Rohan\"\n",
        "print(f\"His name is {name} and age is {age}\")"
      ],
      "metadata": {
        "colab": {
          "base_uri": "https://localhost:8080/"
        },
        "id": "BnHEUARY6zZA",
        "outputId": "7c2c8cdc-e239-4c8f-cfb4-fecdf7e2673b"
      },
      "execution_count": 12,
      "outputs": [
        {
          "output_type": "stream",
          "name": "stdout",
          "text": [
            "His name is Rohan and age is 45\n"
          ]
        }
      ]
    },
    {
      "cell_type": "code",
      "source": [
        "a,b,c=1,2,5\n",
        "print(a,b,c)\n",
        "a=b=c=10\n",
        "print(a,b,c)"
      ],
      "metadata": {
        "colab": {
          "base_uri": "https://localhost:8080/"
        },
        "id": "QzOrIZi67DoV",
        "outputId": "2e54c9c1-5652-42e5-c103-e80a91b3dba6"
      },
      "execution_count": 13,
      "outputs": [
        {
          "output_type": "stream",
          "name": "stdout",
          "text": [
            "1 2 5\n",
            "10 10 10\n"
          ]
        }
      ]
    },
    {
      "cell_type": "markdown",
      "source": [
        "## Types of variable :\n",
        "\n",
        "\n",
        "*   Local variable\n",
        "*   Global variable\n",
        "\n"
      ],
      "metadata": {
        "id": "DhFgh9vH7aQ9"
      }
    },
    {
      "cell_type": "markdown",
      "source": [
        "**Local Variable:**  \n",
        "A variable is only available from inside the region it iscreated. This is called scope.  \n",
        "A local variable is a variable that is defined within a specific block of code, such as inside a function or a loop. These variables have a limited scope and are only accessible within the block in which they are defined. Once the block is exited, the local variables are no longer available."
      ],
      "metadata": {
        "id": "XXXhNMcI8iX2"
      }
    },
    {
      "cell_type": "code",
      "source": [
        "def myfunc():\n",
        "    x = 300\n",
        "    print(x)\n",
        "\n",
        "myfunc()  # Output: 300\n"
      ],
      "metadata": {
        "colab": {
          "base_uri": "https://localhost:8080/"
        },
        "id": "pRuzNHec9BOB",
        "outputId": "75463f7c-16c6-45a0-d2c8-aa317d36c06c"
      },
      "execution_count": 16,
      "outputs": [
        {
          "output_type": "stream",
          "name": "stdout",
          "text": [
            "300\n"
          ]
        }
      ]
    },
    {
      "cell_type": "markdown",
      "source": [
        "## Global Variable:\n",
        "Variables that are created outside of a function (as in all of the examples above) are known as global variables.\n",
        "\n",
        "Global variables can be used by everyone, both inside of functions and outside."
      ],
      "metadata": {
        "id": "aKxp9gwe78rK"
      }
    },
    {
      "cell_type": "code",
      "source": [
        "x = \"awesome\"\n",
        "\n",
        "def myfunc():\n",
        "  x = \"fantastic\"\n",
        "  print(\"Python is \" + x)\n",
        "\n",
        "myfunc()\n",
        "\n",
        "print(\"Python is \" + x)"
      ],
      "metadata": {
        "colab": {
          "base_uri": "https://localhost:8080/"
        },
        "id": "-G0W6yhO7_Q_",
        "outputId": "cd0bba04-5730-4978-dbbb-d731a4b88982"
      },
      "execution_count": 14,
      "outputs": [
        {
          "output_type": "stream",
          "name": "stdout",
          "text": [
            "Python is fantastic\n",
            "Python is awesome\n"
          ]
        }
      ]
    },
    {
      "cell_type": "markdown",
      "source": [
        "**Global Variable using global keyword:**  \n",
        "Normally, when you create a variable inside a function, that variable is local, and can only be used inside that function.\n",
        "\n",
        "To create a global variable inside a function, you can use the global keyword."
      ],
      "metadata": {
        "id": "G2sXRkHV8Mel"
      }
    },
    {
      "cell_type": "code",
      "source": [
        "x = \"awesome\"\n",
        "\n",
        "def myfunc():\n",
        "  global x\n",
        "  x = \"fantastic\"\n",
        "\n",
        "myfunc()\n",
        "\n",
        "print(\"Python is \" + x)"
      ],
      "metadata": {
        "colab": {
          "base_uri": "https://localhost:8080/"
        },
        "id": "-ZVe7ahG8Tt-",
        "outputId": "dde472f4-6cb7-48bf-dea9-bd233a5363d0"
      },
      "execution_count": 15,
      "outputs": [
        {
          "output_type": "stream",
          "name": "stdout",
          "text": [
            "Python is fantastic\n"
          ]
        }
      ]
    },
    {
      "cell_type": "markdown",
      "source": [
        "# Keywords :\n",
        "Keywords in Python are reserved words that can not be used as a variable name, function name, or any other identifiers.\n",
        "## The list of keywords are:\n",
        "['False', 'None', 'True', 'and', 'as', 'assert', 'async', 'await', 'break',\n",
        "'class', 'continue', 'def', 'del', 'elif', 'else', 'except', 'finally', 'for', 'from', 'global', 'if',\n",
        "'import', 'in', 'is', 'lambda', 'nonlocal', 'not', 'or', 'pass', 'raise', 'return', 'try', 'while', 'with', 'yield']"
      ],
      "metadata": {
        "id": "VWWcgW2K6Kxj"
      }
    }
  ]
}