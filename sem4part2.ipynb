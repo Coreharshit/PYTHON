{
  "nbformat": 4,
  "nbformat_minor": 0,
  "metadata": {
    "colab": {
      "provenance": [],
      "authorship_tag": "ABX9TyP6hW7TJfezKENN348weKEb",
      "include_colab_link": true
    },
    "kernelspec": {
      "name": "python3",
      "display_name": "Python 3"
    },
    "language_info": {
      "name": "python"
    }
  },
  "cells": [
    {
      "cell_type": "markdown",
      "metadata": {
        "id": "view-in-github",
        "colab_type": "text"
      },
      "source": [
        "<a href=\"https://colab.research.google.com/github/Coreharshit/PYTHON/blob/main/sem4part2.ipynb\" target=\"_parent\"><img src=\"https://colab.research.google.com/assets/colab-badge.svg\" alt=\"Open In Colab\"/></a>"
      ]
    },
    {
      "cell_type": "code",
      "execution_count": 1,
      "metadata": {
        "colab": {
          "base_uri": "https://localhost:8080/"
        },
        "id": "7R8J9hltfjdO",
        "outputId": "165fc213-05c9-45da-e536-17b7376340b0"
      },
      "outputs": [
        {
          "output_type": "stream",
          "name": "stdout",
          "text": [
            "heelo\n",
            "my\n",
            "name\n",
            "is\n",
            "harshit\n",
            "topper\n"
          ]
        }
      ],
      "source": [
        "f=open(\"fil.txt\",\"w\")\n",
        "l=[\"heelo\\n\",\"my\\n\",\"name\\n\",\"is\\n\",\"harshit\\n\"]\n",
        "s=\"topper\"\n",
        "f.writelines(l)\n",
        "f.write(s)\n",
        "f.close()\n",
        "f=open(\"fil.txt\")\n",
        "print(f.read())\n",
        "f.close()"
      ]
    },
    {
      "cell_type": "code",
      "source": [
        "with open(\"fil.txt\") as f:\n",
        "  l=[]\n",
        "  while True:\n",
        "    c=f.readline()\n",
        "    if not c:\n",
        "      break\n",
        "    l.append(c)\n",
        "print(l)\n",
        "print(len(l))"
      ],
      "metadata": {
        "colab": {
          "base_uri": "https://localhost:8080/"
        },
        "id": "smqrdH5qf4g_",
        "outputId": "5ebbf2cd-0813-4071-c359-c28bba01f08a"
      },
      "execution_count": 3,
      "outputs": [
        {
          "output_type": "stream",
          "name": "stdout",
          "text": [
            "['heelo\\n', 'my\\n', 'name\\n', 'is\\n', 'harshit\\n', 'topper']\n",
            "6\n"
          ]
        }
      ]
    },
    {
      "cell_type": "code",
      "source": [
        "f=open(\"fil.txt\")\n",
        "fi=\"\"\n",
        "for l in f:\n",
        "  fi=fi+l\n",
        "print(fi)"
      ],
      "metadata": {
        "colab": {
          "base_uri": "https://localhost:8080/"
        },
        "id": "EQE1TGiNgK1v",
        "outputId": "fe4273e4-c60c-45d6-e1d9-b3a7e54a3aa5"
      },
      "execution_count": 4,
      "outputs": [
        {
          "output_type": "stream",
          "name": "stdout",
          "text": [
            "heelo\n",
            "my\n",
            "name\n",
            "is\n",
            "harshit\n",
            "topper\n"
          ]
        }
      ]
    },
    {
      "cell_type": "markdown",
      "source": [
        "Write a program to read n lines from file?"
      ],
      "metadata": {
        "id": "1hB5uDaGgfxz"
      }
    },
    {
      "cell_type": "code",
      "source": [
        "f=open(\"fil.txt\")\n",
        "\n",
        "n=int(input(\"enter the number of lines\"))\n",
        "for i in range(n):\n",
        "  p=f.readline()\n",
        "  if not p:\n",
        "    break\n",
        "  print(p)\n",
        "f.close()\n"
      ],
      "metadata": {
        "colab": {
          "base_uri": "https://localhost:8080/"
        },
        "id": "l-8dRW0Kgj66",
        "outputId": "4e7b0851-e9ff-4b0f-d9d6-a74690102752"
      },
      "execution_count": 6,
      "outputs": [
        {
          "output_type": "stream",
          "name": "stdout",
          "text": [
            "enter the number of lines3\n",
            "heelo\n",
            "\n",
            "my\n",
            "\n",
            "name\n",
            "\n"
          ]
        }
      ]
    },
    {
      "cell_type": "markdown",
      "source": [
        "Write a program to append text in a file then read the file?"
      ],
      "metadata": {
        "id": "eDNvD7eqhztD"
      }
    },
    {
      "cell_type": "code",
      "source": [
        "#Writing the data\n",
        "f=open(\"fil.txt\",\"w\")\n",
        "l=[\"heelo\\n\",\"my\\n\",\"name\\n\",\"is\\n\",\"harshit\\n\"]\n",
        "s=\"topper\"\n",
        "f.writelines(l)\n",
        "f.write(s)\n",
        "f.close()\n",
        "f=open(\"fil.txt\")\n",
        "print(f.read())\n",
        "f.close()\n",
        "#Appending new data\n",
        "f=open(\"fill.txt\",\"a\")\n",
        "f.write(\"genius\")\n",
        "f.close()\n",
        "#reading data\n",
        "f=open(\"fill.txt\")\n",
        "print(f.read())\n",
        "f.close()"
      ],
      "metadata": {
        "colab": {
          "base_uri": "https://localhost:8080/"
        },
        "id": "vJNcgfXjhzT-",
        "outputId": "d6ee357e-de73-422d-d56f-9a1f54596433"
      },
      "execution_count": 8,
      "outputs": [
        {
          "output_type": "stream",
          "name": "stdout",
          "text": [
            "heelo\n",
            "my\n",
            "name\n",
            "is\n",
            "harshit\n",
            "topper\n",
            "geniusgenius\n"
          ]
        }
      ]
    },
    {
      "cell_type": "markdown",
      "source": [
        "Write a program to read last n lines from file?"
      ],
      "metadata": {
        "id": "iJniAvOvi8tV"
      }
    },
    {
      "cell_type": "code",
      "source": [
        "f=open(\"fi.txt\",\"w\")\n",
        "l=[\"heelo\\n\",\"my\\n\",\"name\\n\",\"is\\n\",\"harshit\\n\"]\n",
        "f.writelines(l)\n",
        "f.close()\n",
        "f=open(\"fi.txt\")\n",
        "n=int(input(\"enter the number of lines from last\"))\n",
        "l=f.readlines()\n",
        "p=l[-n:]\n",
        "for c in p:\n",
        "  print(c)\n",
        "f.close()"
      ],
      "metadata": {
        "colab": {
          "base_uri": "https://localhost:8080/"
        },
        "id": "wFTsDRstjCzF",
        "outputId": "44e58e8d-16cb-4601-e4c9-18340a0c4a27"
      },
      "execution_count": 11,
      "outputs": [
        {
          "output_type": "stream",
          "name": "stdout",
          "text": [
            "enter the number of lines from last2\n",
            "is\n",
            "\n",
            "harshit\n",
            "\n"
          ]
        }
      ]
    },
    {
      "cell_type": "markdown",
      "source": [
        "Change the content of file by seperating character using comma  \n",
        "hello!!-> h,e,l,l,o,!,!                            \n",
        "   {aktu 2022-23}"
      ],
      "metadata": {
        "id": "7HjB6eWkk-bQ"
      }
    },
    {
      "cell_type": "code",
      "source": [
        "f=open(\"fi.txt\",\"w\")\n",
        "f.write(\"hello!!\")\n",
        "f.close()\n",
        "f=open(\"fi.txt\",\"r+\")\n",
        "str=f.read()\n",
        "print(str)\n",
        "l=list(str)\n",
        "print(l)\n",
        "str=\",\".join(l)\n",
        "f.seek(0)\n",
        "f.write(str)\n",
        "f.close()\n",
        "f=open(\"fi.txt\",\"r\")\n",
        "print(f.read())\n",
        "f.close()"
      ],
      "metadata": {
        "colab": {
          "base_uri": "https://localhost:8080/"
        },
        "id": "kkof-rOilNB-",
        "outputId": "6b7b5e3b-6cdf-4e57-83bc-afb1df60824a"
      },
      "execution_count": 15,
      "outputs": [
        {
          "output_type": "stream",
          "name": "stdout",
          "text": [
            "hello!!\n",
            "['h', 'e', 'l', 'l', 'o', '!', '!']\n",
            "h,e,l,l,o,!,!\n"
          ]
        }
      ]
    },
    {
      "cell_type": "markdown",
      "source": [
        "construct a program that accepts sequence of character seperated by white spaces and return words that contain only digits."
      ],
      "metadata": {
        "id": "182IOb7_mn6v"
      }
    },
    {
      "cell_type": "code",
      "source": [
        "f=open(\"rex.txt\",\"w\")\n",
        "s=\"ghello 323 dhc 12 si 321\"\n",
        "f.write(s)\n",
        "f.close()\n",
        "f=open(\"rex.txt\",\"r\")\n",
        "l=f.read().split()\n",
        "for i in l:\n",
        "  if i.isdigit():\n",
        "    print(i)"
      ],
      "metadata": {
        "colab": {
          "base_uri": "https://localhost:8080/"
        },
        "id": "IYR4NreZnfWi",
        "outputId": "e3525ecb-83da-415b-8d74-f8d5d8e416bd"
      },
      "execution_count": 16,
      "outputs": [
        {
          "output_type": "stream",
          "name": "stdout",
          "text": [
            "323\n",
            "12\n",
            "321\n"
          ]
        }
      ]
    },
    {
      "cell_type": "code",
      "source": [
        "def s(l):\n",
        "  for x in l.split():\n",
        "    p=\"#\".join(l)\n",
        "    print(p)\n",
        "sy=\"This is python program\"\n",
        "s(sy)"
      ],
      "metadata": {
        "colab": {
          "base_uri": "https://localhost:8080/"
        },
        "id": "_iZQkNuSpPMU",
        "outputId": "7912c199-bce6-41d1-a61d-bda0db94f0d4"
      },
      "execution_count": 20,
      "outputs": [
        {
          "output_type": "stream",
          "name": "stdout",
          "text": [
            "T#h#i#s# #i#s# #p#y#t#h#o#n# #p#r#o#g#r#a#m\n",
            "T#h#i#s# #i#s# #p#y#t#h#o#n# #p#r#o#g#r#a#m\n",
            "T#h#i#s# #i#s# #p#y#t#h#o#n# #p#r#o#g#r#a#m\n",
            "T#h#i#s# #i#s# #p#y#t#h#o#n# #p#r#o#g#r#a#m\n"
          ]
        }
      ]
    },
    {
      "cell_type": "markdown",
      "source": [
        "Change all the numbers in the file to text. Construct a program for the same. Example Given 2 numbers, return their product only if the product is equal to or lower than 10.And the result should be Given two integer numbers, return their product only if the product is equal to or lower than one zero"
      ],
      "metadata": {
        "id": "uYe34UiCv1rd"
      }
    },
    {
      "cell_type": "code",
      "source": [
        "d={\"0\":\"zero\",\"1\":\"one\",\"2\":\"two\",\"3\":\"three\",\"4\":\"four\",\"5\":\"five\",\"6\":\"six\",\"7\":\"seven\",\"8\":\"eight\",\"9\":\"nine\"}\n",
        "def replace(text):\n",
        "  l=[]\n",
        "  for i in text:\n",
        "    if i.isdigit():\n",
        "      l.append(d[i])\n",
        "    else:\n",
        "      l.append(i)\n",
        "  return \"\".join(l)\n",
        "\n",
        "def file(name):\n",
        "  f=open(name,\"r+\")\n",
        "  text=f.read()\n",
        "  f.seek(0)\n",
        "  f.write(replace(text))\n",
        "  f.close()\n",
        "f=open(\"hee.txt\",\"w\")\n",
        "f.write(\"hello 323 dhc 12 si 321\")\n",
        "f.close()\n",
        "file(\"hee.txt\")\n",
        "f=open(\"hee.txt\",\"r\")\n",
        "print(f.read())\n"
      ],
      "metadata": {
        "colab": {
          "base_uri": "https://localhost:8080/"
        },
        "id": "mPGzSg9Fv384",
        "outputId": "344d1d64-ea38-4d10-fff8-aee7b87455c3"
      },
      "execution_count": 23,
      "outputs": [
        {
          "output_type": "stream",
          "name": "stdout",
          "text": [
            "hello threetwothree dhc onetwo si threetwoone\n"
          ]
        }
      ]
    },
    {
      "cell_type": "markdown",
      "source": [
        "numpy methods?"
      ],
      "metadata": {
        "id": "DzKU44Wxjrer"
      }
    },
    {
      "cell_type": "code",
      "source": [
        "import numpy as np\n",
        "arr=np.array([1,2,3,4,3,8,5])\n",
        "arr2=np.zeros(3)\n",
        "arr3=np.ones(3)\n",
        "arr4=np.arange(10)\n",
        "arr5=np.linspace(0,10,5)\n",
        "print(arr)\n",
        "print(arr2)\n",
        "print(arr3)\n",
        "print(arr4)\n",
        "print(arr5)\n",
        "print(sum(arr))\n",
        "print(max(arr))\n",
        "print(min(arr))\n",
        "print(np.mean(arr))\n",
        "print(np.median(arr))\n",
        "print(np.std(arr))\n",
        "print(np.var(arr))\n",
        "print(np.sort(arr))\n",
        "print(np.unique(arr))\n",
        "rand=np.random.randint(1,100,5)\n",
        "print(rand)\n",
        "sample=np.random.choice(arr,2)\n",
        "print(sample)\n"
      ],
      "metadata": {
        "colab": {
          "base_uri": "https://localhost:8080/"
        },
        "id": "jGN5_IvJjuWT",
        "outputId": "1e9c949c-5403-4de9-ce7f-27c9cf0ae1d8"
      },
      "execution_count": 15,
      "outputs": [
        {
          "output_type": "stream",
          "name": "stdout",
          "text": [
            "[1 2 3 4 3 8 5]\n",
            "[0. 0. 0.]\n",
            "[1. 1. 1.]\n",
            "[0 1 2 3 4 5 6 7 8 9]\n",
            "[ 0.   2.5  5.   7.5 10. ]\n",
            "26\n",
            "8\n",
            "1\n",
            "3.7142857142857144\n",
            "3.0\n",
            "2.1189138534559038\n",
            "4.489795918367347\n",
            "[1 2 3 3 4 5 8]\n",
            "[1 2 3 4 5 8]\n",
            "[98 51 37  2 45]\n",
            "[3 5]\n"
          ]
        }
      ]
    },
    {
      "cell_type": "markdown",
      "source": [
        "write a program to find minimum and maximum elements of numpy array and iterate array and print its elements?"
      ],
      "metadata": {
        "id": "T_ZSGvsElx59"
      }
    },
    {
      "cell_type": "code",
      "source": [
        "import numpy as np\n",
        "arr=np.array([1,2,3,4,3,8,5])\n",
        "print(np.min(arr))\n",
        "print(np.max(arr))\n",
        "print(\"array is --  > \",arr)\n",
        "for i in arr:\n",
        "  print(i)"
      ],
      "metadata": {
        "colab": {
          "base_uri": "https://localhost:8080/"
        },
        "id": "9_BXz-WimCou",
        "outputId": "cce799ca-c1f8-4dab-e42e-732e0c53018f"
      },
      "execution_count": 18,
      "outputs": [
        {
          "output_type": "stream",
          "name": "stdout",
          "text": [
            "1\n",
            "8\n",
            "array is --  >  [1 2 3 4 3 8 5]\n",
            "1\n",
            "2\n",
            "3\n",
            "4\n",
            "3\n",
            "8\n",
            "5\n"
          ]
        }
      ]
    },
    {
      "cell_type": "markdown",
      "source": [
        "find sum ,mean and index of number greater than 5"
      ],
      "metadata": {
        "id": "-I-EA7F4m4Sw"
      }
    },
    {
      "cell_type": "code",
      "source": [
        "import numpy as np\n",
        "arr=np.array([1,2,3,4,3,8,5])\n",
        "print(np.sum(arr))\n",
        "print(np.mean(arr))\n",
        "print(np.where(arr>5))"
      ],
      "metadata": {
        "colab": {
          "base_uri": "https://localhost:8080/"
        },
        "id": "YAXgry1um_rX",
        "outputId": "8c0b9047-f82e-443c-fd0c-446ddcaef037"
      },
      "execution_count": 22,
      "outputs": [
        {
          "output_type": "stream",
          "name": "stdout",
          "text": [
            "26\n",
            "3.7142857142857144\n",
            "(array([5]),)\n"
          ]
        }
      ]
    },
    {
      "cell_type": "markdown",
      "source": [
        "2d array"
      ],
      "metadata": {
        "id": "mP4GTpCRos_j"
      }
    },
    {
      "cell_type": "code",
      "source": [
        "import numpy as np\n",
        "arr=np.array([[1,2,3],[4,5,6],[7,8,9],[3,4,5]])\n",
        "print(arr)\n",
        "print(np.mean(arr))\n",
        "print(np.median(arr))\n",
        "print(np.std(arr))\n",
        "print(np.var(arr))\n",
        "re=arr.reshape(3,4)\n",
        "print(re)\n",
        "flat=arr.flatten()\n",
        "print(flat)\n",
        "k=re.transpose()\n",
        "print(k)\n",
        "p=np.sqrt(arr)\n",
        "print(p)\n",
        "print(np.log(arr))\n",
        "print(np.exp(arr))"
      ],
      "metadata": {
        "colab": {
          "base_uri": "https://localhost:8080/"
        },
        "id": "ca-VKucqou4Z",
        "outputId": "3900a4ed-8e4e-4793-b0c9-9afbc66a5f8d"
      },
      "execution_count": 36,
      "outputs": [
        {
          "output_type": "stream",
          "name": "stdout",
          "text": [
            "[[1 2 3]\n",
            " [4 5 6]\n",
            " [7 8 9]\n",
            " [3 4 5]]\n",
            "4.75\n",
            "4.5\n",
            "2.3139072294858036\n",
            "5.354166666666667\n",
            "[[1 2 3 4]\n",
            " [5 6 7 8]\n",
            " [9 3 4 5]]\n",
            "[1 2 3 4 5 6 7 8 9 3 4 5]\n",
            "[[1 5 9]\n",
            " [2 6 3]\n",
            " [3 7 4]\n",
            " [4 8 5]]\n",
            "[[1.         1.41421356 1.73205081]\n",
            " [2.         2.23606798 2.44948974]\n",
            " [2.64575131 2.82842712 3.        ]\n",
            " [1.73205081 2.         2.23606798]]\n",
            "[[0.         0.69314718 1.09861229]\n",
            " [1.38629436 1.60943791 1.79175947]\n",
            " [1.94591015 2.07944154 2.19722458]\n",
            " [1.09861229 1.38629436 1.60943791]]\n",
            "[[2.71828183e+00 7.38905610e+00 2.00855369e+01]\n",
            " [5.45981500e+01 1.48413159e+02 4.03428793e+02]\n",
            " [1.09663316e+03 2.98095799e+03 8.10308393e+03]\n",
            " [2.00855369e+01 5.45981500e+01 1.48413159e+02]]\n"
          ]
        }
      ]
    },
    {
      "cell_type": "markdown",
      "source": [
        "**Matplotlib **"
      ],
      "metadata": {
        "id": "l7k7HPhVtC_A"
      }
    },
    {
      "cell_type": "code",
      "source": [
        "import matplotlib.pyplot as plt\n",
        "import numpy as np\n",
        "x=np.array([1,5,8,4,7])\n",
        "y=np.array([22,13,43,54,10])\n",
        "plt.title(\"Graph\")\n",
        "plt.xlabel(\"x-axis\")\n",
        "plt.ylabel(\"y-axis\")\n",
        "plt.legend([\"line1\"])\n",
        "plt.plot(x,y,marker=\"*\",ms=10)\n",
        "plt.show()"
      ],
      "metadata": {
        "colab": {
          "base_uri": "https://localhost:8080/",
          "height": 472
        },
        "id": "4_MwqRq_tFZ2",
        "outputId": "6b501269-1a81-4ae0-89ca-05afc17152aa"
      },
      "execution_count": 45,
      "outputs": [
        {
          "output_type": "display_data",
          "data": {
            "text/plain": [
              "<Figure size 640x480 with 1 Axes>"
            ],
            "image/png": "[encoded data removed]"
          },
          "metadata": {}
        }
      ]
    },
    {
      "cell_type": "markdown",
      "source": [
        "Histogram"
      ],
      "metadata": {
        "id": "Ye8ZkVSuv165"
      }
    },
    {
      "cell_type": "code",
      "source": [
        "import matplotlib.pyplot as plt\n",
        "import numpy as np\n",
        "x=np.array([2,4,3,8])\n",
        "i=np.array([1,2,3,4])\n",
        "plt.hist(x,color=\"red\",label=\"x\")\n",
        "plt.hist(i,label=\"y\")\n",
        "plt.legend()\n",
        "plt.show()"
      ],
      "metadata": {
        "colab": {
          "base_uri": "https://localhost:8080/",
          "height": 430
        },
        "id": "VJIb9Oc7wLQt",
        "outputId": "8105e47d-0667-4325-9d23-3818d35ee852"
      },
      "execution_count": 51,
      "outputs": [
        {
          "output_type": "display_data",
          "data": {
            "text/plain": [
              "<Figure size 640x480 with 1 Axes>"
            ],
            "image/png": "[encoded data removed]"
          },
          "metadata": {}
        }
      ]
    },
    {
      "cell_type": "markdown",
      "source": [
        "Scatter Plot"
      ],
      "metadata": {
        "id": "XieC3LPNxdPJ"
      }
    },
    {
      "cell_type": "code",
      "source": [
        "import matplotlib.pyplot as plt\n",
        "import numpy as np\n",
        "plt.title(\"Scatter Plot\")\n",
        "x=np.array([2,4,3,8])\n",
        "i=np.array([1,2,3,4])\n",
        "plt.scatter(x,i,color=\"red\",label=\"scatter\",marker=\"|\",s=500) #here s is size of marker\n",
        "plt.plot(x,i,color=\"blue\",label=\"plot\")\n",
        "plt.bar(x,i,color=\"green\",label=\"bar\")\n",
        "plt.xlabel(\"x\")\n",
        "plt.ylabel(\"y\")\n",
        "plt.legend()\n",
        "plt.show()"
      ],
      "metadata": {
        "colab": {
          "base_uri": "https://localhost:8080/",
          "height": 472
        },
        "id": "TvZLS6f-xcxE",
        "outputId": "0e09ef82-0c5f-4506-d044-dbf8d1c86a9c"
      },
      "execution_count": 63,
      "outputs": [
        {
          "output_type": "display_data",
          "data": {
            "text/plain": [
              "<Figure size 640x480 with 1 Axes>"
            ],
            "image/png": "[encoded data removed]"
          },
          "metadata": {}
        }
      ]
    },
    {
      "cell_type": "markdown",
      "source": [
        "pie plot"
      ],
      "metadata": {
        "id": "smXm_NyUzdSN"
      }
    },
    {
      "cell_type": "code",
      "source": [
        "import matplotlib.pyplot as plt\n",
        "import numpy as np\n",
        "x=np.array([2,4,3,8])\n",
        "plt.pie(x,labels=x,colors=[\"red\",\"green\",\"blue\",\"yellow\"])\n",
        "plt.show()"
      ],
      "metadata": {
        "colab": {
          "base_uri": "https://localhost:8080/",
          "height": 406
        },
        "id": "p8Hu82-Tzgx0",
        "outputId": "7ec1bc7e-3109-4a79-bd08-f9c2cff5c2d6"
      },
      "execution_count": 65,
      "outputs": [
        {
          "output_type": "display_data",
          "data": {
            "text/plain": [
              "<Figure size 640x480 with 1 Axes>"
            ],
            "image/png": "[encoded data removed]"
          },
          "metadata": {}
        }
      ]
    },
    {
      "cell_type": "markdown",
      "source": [
        "***Pandas***"
      ],
      "metadata": {
        "id": "CPnxJ5cY07A2"
      }
    },
    {
      "cell_type": "code",
      "source": [
        "import pandas as pd\n",
        "data_set={\n",
        "    \"Food\":[\"Meat\",\"Banana\",\"Avocado\",\"Sweet Potato\",\"Spanich\",\"watermelon\",\"coconut\",\"beans\",\"legumes\",\"tomato\"],\n",
        "    \"Calories\":[250,130,140,120,20,20,10,50,40,19],\n",
        "    \"Potassium\":[40,55,20,30,40,32,10,26,25,20],\n",
        "    \"fat\":[8,5,3,6,1,1.5,0,2,1.5,2.5]\n",
        "}\n",
        "df=pd.DataFrame(data_set)\n",
        "print(df)"
      ],
      "metadata": {
        "colab": {
          "base_uri": "https://localhost:8080/"
        },
        "id": "3cYUAtuZ09cd",
        "outputId": "1996e1ae-9c95-45b4-d0cc-58808d0d4507"
      },
      "execution_count": 66,
      "outputs": [
        {
          "output_type": "stream",
          "name": "stdout",
          "text": [
            "           Food  Calories  Potassium  fat\n",
            "0          Meat       250         40  8.0\n",
            "1        Banana       130         55  5.0\n",
            "2       Avocado       140         20  3.0\n",
            "3  Sweet Potato       120         30  6.0\n",
            "4       Spanich        20         40  1.0\n",
            "5    watermelon        20         32  1.5\n",
            "6       coconut        10         10  0.0\n",
            "7         beans        50         26  2.0\n",
            "8       legumes        40         25  1.5\n",
            "9        tomato        19         20  2.5\n"
          ]
        }
      ]
    },
    {
      "cell_type": "code",
      "source": [
        "import pandas as pd\n",
        "import matplotlib.pyplot as plt\n",
        "plt.plot(df[\"Food\"],df[\"fat\"],label=\"fat\")\n",
        "plt.plot(df[\"Food\"],df[\"Potassium\"],label=\"Potassium\")\n",
        "plt.plot(df[\"Food\"],df[\"Calories\"],label=\"Calories\")\n",
        "plt.xlabel(\"Food\")\n",
        "plt.ylabel(\"quantity\")\n",
        "plt.title(\"Graph\")\n",
        "plt.legend()\n",
        "plt.grid()\n",
        "plt.tight_layout()\n",
        "plt.show()"
      ],
      "metadata": {
        "colab": {
          "base_uri": "https://localhost:8080/",
          "height": 487
        },
        "id": "pQDI_aQZ2aBS",
        "outputId": "55d2d216-5a84-4cf8-d55c-fb610472480a"
      },
      "execution_count": 77,
      "outputs": [
        {
          "output_type": "display_data",
          "data": {
            "text/plain": [
              "<Figure size 640x480 with 1 Axes>"
            ],
            "image/png": "[encoded data removed]"
          },
          "metadata": {}
        }
      ]
    }
  ]
}