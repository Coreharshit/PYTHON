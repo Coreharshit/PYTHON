{
  "nbformat": 4,
  "nbformat_minor": 0,
  "metadata": {
    "colab": {
      "provenance": [],
      "authorship_tag": "ABX9TyPaEQ5DZjEC+B1Dy/GHFetF",
      "include_colab_link": true
    },
    "kernelspec": {
      "name": "python3",
      "display_name": "Python 3"
    },
    "language_info": {
      "name": "python"
    }
  },
  "cells": [
    {
      "cell_type": "markdown",
      "metadata": {
        "id": "view-in-github",
        "colab_type": "text"
      },
      "source": [
        "<a href=\"https://colab.research.google.com/github/Coreharshit/PYTHON/blob/main/sem4program.ipynb\" target=\"_parent\"><img src=\"https://colab.research.google.com/assets/colab-badge.svg\" alt=\"Open In Colab\"/></a>"
      ]
    },
    {
      "cell_type": "markdown",
      "source": [
        "Swapping two Number"
      ],
      "metadata": {
        "id": "Kt11AoSGpJSr"
      }
    },
    {
      "cell_type": "code",
      "execution_count": 1,
      "metadata": {
        "colab": {
          "base_uri": "https://localhost:8080/"
        },
        "id": "uh1ZS-uSo36A",
        "outputId": "78b1d2cf-62bc-4394-ac2a-d9e01f15b269"
      },
      "outputs": [
        {
          "output_type": "stream",
          "name": "stdout",
          "text": [
            "enter first number5\n",
            "enter second number6\n",
            "5 6\n",
            "6 5\n"
          ]
        }
      ],
      "source": [
        "a=int(input(\"enter first number\"))\n",
        "b=int(input(\"enter second number\"))\n",
        "print(a,b)\n",
        "a,b=b,a\n",
        "print(a,b)#numbers swapped"
      ]
    },
    {
      "cell_type": "markdown",
      "source": [
        "Swap two number using third variable"
      ],
      "metadata": {
        "id": "4i7y4VySpH7S"
      }
    },
    {
      "cell_type": "code",
      "source": [
        "a=int(input(\"enter first number\"))\n",
        "b=int(input(\"enter second number\"))\n",
        "print(a,b)\n",
        "temp=a\n",
        "a=b\n",
        "b=temp\n",
        "print(a,b)#numbers swapped"
      ],
      "metadata": {
        "colab": {
          "base_uri": "https://localhost:8080/"
        },
        "id": "exe_6dO5pvei",
        "outputId": "e4f16604-b057-4598-b4aa-56ca1bc4cfac"
      },
      "execution_count": 2,
      "outputs": [
        {
          "output_type": "stream",
          "name": "stdout",
          "text": [
            "enter first number4\n",
            "enter second number3\n",
            "4 3\n",
            "3 4\n"
          ]
        }
      ]
    },
    {
      "cell_type": "markdown",
      "source": [
        "***Putting Semicolon at the end wont raises any error rather than termination it signifies seperation between statements.***"
      ],
      "metadata": {
        "id": "8-bmekNup3bb"
      }
    },
    {
      "cell_type": "markdown",
      "source": [
        "Check wheather element present in sequence or not?"
      ],
      "metadata": {
        "id": "QEC0fHGMtGlC"
      }
    },
    {
      "cell_type": "code",
      "source": [
        "l=[2,3,1,9,8]\n",
        "n=8\n",
        "if n  in l:\n",
        "  print(\"present\")\n",
        "else:\n",
        "  print(\"not present\")\n"
      ],
      "metadata": {
        "colab": {
          "base_uri": "https://localhost:8080/"
        },
        "id": "Y7nWj0wStNSl",
        "outputId": "8b21cef0-90f2-42c5-923f-dccc86c37187"
      },
      "execution_count": 3,
      "outputs": [
        {
          "output_type": "stream",
          "name": "stdout",
          "text": [
            "present\n"
          ]
        }
      ]
    },
    {
      "cell_type": "markdown",
      "source": [
        "Check wheather its leap year or not?"
      ],
      "metadata": {
        "id": "QKTxp17hvHqo"
      }
    },
    {
      "cell_type": "code",
      "source": [
        "year=int(input(\"Enter year to check - \"))\n",
        "if year%400==0:\n",
        "  print(\"leap year\")\n",
        "elif year%100==0:\n",
        "  print(\"its not leap year\")\n",
        "elif year%4==0:\n",
        "  print(\"leap year\")\n",
        "else:\n",
        "  print(\"its not leap year\")"
      ],
      "metadata": {
        "colab": {
          "base_uri": "https://localhost:8080/"
        },
        "id": "3H0vjPvPvM6C",
        "outputId": "6741bfdd-b2e0-4a5d-a17f-a64681d70476"
      },
      "execution_count": 5,
      "outputs": [
        {
          "output_type": "stream",
          "name": "stdout",
          "text": [
            "Enter year to check - 1400\n",
            "its not leap year\n"
          ]
        }
      ]
    },
    {
      "cell_type": "markdown",
      "source": [
        "program to make calculator?"
      ],
      "metadata": {
        "id": "vVjgNumTv6hT"
      }
    },
    {
      "cell_type": "code",
      "source": [
        "a=int(input(\"enter first number\"))\n",
        "b=int(input(\"enter second number\"))\n",
        "c=input(\"enter operator + -  * /\")\n",
        "if c=='+':\n",
        "  print(a+b)\n",
        "elif c=='-':\n",
        "  print(a-b)\n",
        "elif c=='*':\n",
        "  print(a*b)\n",
        "elif c=='/':\n",
        "  print(a/b)\n",
        "else:\n",
        "  print(\"choose correct options :(\")"
      ],
      "metadata": {
        "colab": {
          "base_uri": "https://localhost:8080/"
        },
        "id": "Zj8I4xN1wUoz",
        "outputId": "7171a438-18f8-4df7-b271-5ab1955d0255"
      },
      "execution_count": 7,
      "outputs": [
        {
          "output_type": "stream",
          "name": "stdout",
          "text": [
            "enter first number5\n",
            "enter second number8\n",
            "enter operator + -  * /*\n",
            "40\n"
          ]
        }
      ]
    },
    {
      "cell_type": "markdown",
      "source": [
        "Prints numbers from 0,57 only even one's only using for loop?"
      ],
      "metadata": {
        "id": "RWoSFQSmxfAa"
      }
    },
    {
      "cell_type": "code",
      "source": [
        "for i in range(0,57,2):\n",
        "  print(i)"
      ],
      "metadata": {
        "colab": {
          "base_uri": "https://localhost:8080/"
        },
        "id": "W8mSG62nxmlj",
        "outputId": "def3e62f-6df2-4d97-8d61-0918c8f82258"
      },
      "execution_count": 8,
      "outputs": [
        {
          "output_type": "stream",
          "name": "stdout",
          "text": [
            "0\n",
            "2\n",
            "4\n",
            "6\n",
            "8\n",
            "10\n",
            "12\n",
            "14\n",
            "16\n",
            "18\n",
            "20\n",
            "22\n",
            "24\n",
            "26\n",
            "28\n",
            "30\n",
            "32\n",
            "34\n",
            "36\n",
            "38\n",
            "40\n",
            "42\n",
            "44\n",
            "46\n",
            "48\n",
            "50\n",
            "52\n",
            "54\n",
            "56\n"
          ]
        }
      ]
    },
    {
      "cell_type": "markdown",
      "source": [
        "Armstrong number   \n",
        "**153->1^3+5^3+3^3=153**"
      ],
      "metadata": {
        "id": "TD_wpLt90JpO"
      }
    },
    {
      "cell_type": "code",
      "source": [
        "a=int(input(\"enter the number\"))\n",
        "c=0\n",
        "num=a\n",
        "while(a>0):\n",
        "  b=a%10\n",
        "  c=c+b**len(str(num))\n",
        "  a=a//10\n",
        "if c==num:\n",
        "  print(\"armstrong number\")\n",
        "else:\n",
        "  print(\"not armstrong number\")"
      ],
      "metadata": {
        "colab": {
          "base_uri": "https://localhost:8080/"
        },
        "id": "P1l46EmX0U3d",
        "outputId": "4e4aa8b3-6bb4-4afd-aaa4-70e951335c71"
      },
      "execution_count": 12,
      "outputs": [
        {
          "output_type": "stream",
          "name": "stdout",
          "text": [
            "enter the number153\n",
            "armstrong number\n"
          ]
        }
      ]
    },
    {
      "cell_type": "markdown",
      "source": [
        "Check wheather number is palindrome or not ?"
      ],
      "metadata": {
        "id": "N-NLlchm1n0V"
      }
    },
    {
      "cell_type": "code",
      "source": [
        "a=int(input(\"enter the number\"))\n",
        "c=0\n",
        "num=a\n",
        "while(a>0):\n",
        "  b=a%10\n",
        "  c=c*10+b\n",
        "  a//=10\n",
        "if c==num:\n",
        "  print(\"palindrome number\")\n",
        "else:\n",
        "  print(\"not palindrome number\")\n"
      ],
      "metadata": {
        "colab": {
          "base_uri": "https://localhost:8080/"
        },
        "id": "PUFvoDYq2zTn",
        "outputId": "9f803157-fdf7-449c-d8ad-46f6f79c276e"
      },
      "execution_count": 13,
      "outputs": [
        {
          "output_type": "stream",
          "name": "stdout",
          "text": [
            "enter the number151\n",
            "palindrome number\n"
          ]
        }
      ]
    },
    {
      "cell_type": "markdown",
      "source": [
        "Program to find factorial of number?"
      ],
      "metadata": {
        "id": "RIC7MgXM4AQK"
      }
    },
    {
      "cell_type": "code",
      "source": [
        "n=int(input(\"enter number to find factorial - \"))\n",
        "p=1\n",
        "for x in range (1,n+1):\n",
        "  p=p*x\n",
        "print(\"factorial is :\",p)"
      ],
      "metadata": {
        "colab": {
          "base_uri": "https://localhost:8080/"
        },
        "id": "Jz2XCn9M4E3Z",
        "outputId": "41e1d442-0de7-4fd9-cd32-30d68100663f"
      },
      "execution_count": 14,
      "outputs": [
        {
          "output_type": "stream",
          "name": "stdout",
          "text": [
            "enter number to find factorial - 5\n",
            "factorial is : 120\n"
          ]
        }
      ]
    },
    {
      "cell_type": "markdown",
      "source": [
        "program to find fibonacci series?"
      ],
      "metadata": {
        "id": "hMGj8CR95LMt"
      }
    },
    {
      "cell_type": "code",
      "source": [
        "n=int(input(\"number of terms in fibonacci - \"))\n",
        "n1=0\n",
        "n2=1\n",
        "print(n1)\n",
        "print(n2)\n",
        "count=2\n",
        "while(n>count):\n",
        "  n3=n1+n2\n",
        "  print(n3)\n",
        "  n1=n2\n",
        "  n2=n3\n",
        "  count+=1\n"
      ],
      "metadata": {
        "colab": {
          "base_uri": "https://localhost:8080/"
        },
        "id": "Vc2dOvH15Tzt",
        "outputId": "7e1722db-4265-4aa7-e0f9-d9f88fe99642"
      },
      "execution_count": 17,
      "outputs": [
        {
          "output_type": "stream",
          "name": "stdout",
          "text": [
            "number of terms in fibonacci - 10\n",
            "0\n",
            "1\n",
            "1\n",
            "2\n",
            "3\n",
            "5\n",
            "8\n",
            "13\n",
            "21\n",
            "34\n"
          ]
        }
      ]
    },
    {
      "cell_type": "markdown",
      "source": [
        "Check given number is prime or not ?"
      ],
      "metadata": {
        "id": "K_fYjgic7oKA"
      }
    },
    {
      "cell_type": "code",
      "source": [
        "x=int(input(\"enter number for checking - \"))\n",
        "count=0\n",
        "for j in range(2,x):\n",
        "  if x%j==0:\n",
        "    count+=1\n",
        "    break\n",
        "if count==0:\n",
        "  print(\"prime number\")\n",
        "else:\n",
        "  print(\"not prime number\")\n"
      ],
      "metadata": {
        "colab": {
          "base_uri": "https://localhost:8080/"
        },
        "id": "9ekek57f7uAH",
        "outputId": "9363a64b-1ef3-49f2-d3c5-b9c8be37c780"
      },
      "execution_count": 19,
      "outputs": [
        {
          "output_type": "stream",
          "name": "stdout",
          "text": [
            "enter number for checking - 22\n",
            "not prime number\n"
          ]
        }
      ]
    },
    {
      "cell_type": "markdown",
      "source": [
        "Print the following pattern?\n"
      ],
      "metadata": {
        "id": "a28LrotzAa9o"
      }
    },
    {
      "cell_type": "code",
      "source": [
        "for x in range(5):\n",
        "  for y in range(x+1):\n",
        "    print(\"*\",end=\"\")\n",
        "  print()\n",
        "#"
      ],
      "metadata": {
        "colab": {
          "base_uri": "https://localhost:8080/"
        },
        "id": "8u96FMUyA5k_",
        "outputId": "384c332a-364b-422b-d0ac-40cea5d2b190"
      },
      "execution_count": 20,
      "outputs": [
        {
          "output_type": "stream",
          "name": "stdout",
          "text": [
            "*\n",
            "**\n",
            "***\n",
            "****\n",
            "*****\n"
          ]
        }
      ]
    },
    {
      "cell_type": "markdown",
      "source": [
        "Print reverse of number?"
      ],
      "metadata": {
        "id": "es2gheGtBS4L"
      }
    },
    {
      "cell_type": "code",
      "source": [
        "n=int(input(\"enter the number\"))\n",
        "c=0\n",
        "while(n>0):\n",
        "  b=n%10\n",
        "  c=c*10+b\n",
        "  n//=10\n",
        "print(c)"
      ],
      "metadata": {
        "colab": {
          "base_uri": "https://localhost:8080/"
        },
        "id": "7KhsPhwmBWVO",
        "outputId": "5e64121f-537c-4e4b-cbf1-e3288674421e"
      },
      "execution_count": 21,
      "outputs": [
        {
          "output_type": "stream",
          "name": "stdout",
          "text": [
            "enter the number134\n",
            "431\n"
          ]
        }
      ]
    },
    {
      "cell_type": "markdown",
      "source": [
        "Print pattern?"
      ],
      "metadata": {
        "id": "X2-LxZGbB-cY"
      }
    },
    {
      "cell_type": "code",
      "source": [
        "for c in range(5):\n",
        "  for y in range(5-c):\n",
        "    print(\"*\",end=\"\")\n",
        "  print()"
      ],
      "metadata": {
        "colab": {
          "base_uri": "https://localhost:8080/"
        },
        "id": "MoIsWE8NCBW6",
        "outputId": "68d4f1e6-d4af-4f1d-cdfb-f1ea830d3ae3"
      },
      "execution_count": 22,
      "outputs": [
        {
          "output_type": "stream",
          "name": "stdout",
          "text": [
            "*****\n",
            "****\n",
            "***\n",
            "**\n",
            "*\n"
          ]
        }
      ]
    },
    {
      "cell_type": "markdown",
      "source": [
        "Write a program to coonvert 12 hrs format into 24 hrs format"
      ],
      "metadata": {
        "id": "-Emhx4xfNo0D"
      }
    },
    {
      "cell_type": "code",
      "source": [
        "def convert(str):\n",
        "  if str[-2:]==\"AM\" and str[:2]==\"12\":\n",
        "    return \"00\"+str[2:-2]\n",
        "  elif str[-2:]==\"AM\":\n",
        "    return str[:-2]\n",
        "  elif str[-2:]==\"PM\" and str[:2]==\"12\":\n",
        "    return str[:-2]\n",
        "  else:\n",
        "    return str\n",
        "convert(\"12:05:45 AM\")"
      ],
      "metadata": {
        "colab": {
          "base_uri": "https://localhost:8080/",
          "height": 35
        },
        "id": "YOhhYE8yCmfb",
        "outputId": "30a6037e-f19a-43be-96e5-2c795130bab8"
      },
      "execution_count": 24,
      "outputs": [
        {
          "output_type": "execute_result",
          "data": {
            "text/plain": [
              "'00:05:45 '"
            ],
            "application/vnd.google.colaboratory.intrinsic+json": {
              "type": "string"
            }
          },
          "metadata": {},
          "execution_count": 24
        }
      ]
    },
    {
      "cell_type": "markdown",
      "source": [
        "Print pattern?"
      ],
      "metadata": {
        "id": "i6o0zAEZPinA"
      }
    },
    {
      "cell_type": "code",
      "source": [
        "for c in range(5):\n",
        "  for v in range(c+1):\n",
        "    print(\"*\",end =\"\")\n",
        "  print()\n",
        "for v in range(4):\n",
        "  for c in range(4-v):\n",
        "    print(\"*\",end=\"\")\n",
        "  print()"
      ],
      "metadata": {
        "colab": {
          "base_uri": "https://localhost:8080/"
        },
        "id": "fup2PJglPnyf",
        "outputId": "5b9377de-17d1-4606-9c29-754e11c8b307"
      },
      "execution_count": 25,
      "outputs": [
        {
          "output_type": "stream",
          "name": "stdout",
          "text": [
            "*\n",
            "**\n",
            "***\n",
            "****\n",
            "*****\n",
            "****\n",
            "***\n",
            "**\n",
            "*\n"
          ]
        }
      ]
    },
    {
      "cell_type": "markdown",
      "source": [
        "List Comprehension"
      ],
      "metadata": {
        "id": "e8B7UkQBR7bG"
      }
    },
    {
      "cell_type": "code",
      "source": [
        "l=[1,2,3,4,5]\n",
        "lm=[x**2 for x in l]\n",
        "print(lm)"
      ],
      "metadata": {
        "colab": {
          "base_uri": "https://localhost:8080/"
        },
        "id": "8mh6i9c2SSDT",
        "outputId": "b678cd3b-b283-4b70-ded4-f1f24a6419b5"
      },
      "execution_count": 26,
      "outputs": [
        {
          "output_type": "stream",
          "name": "stdout",
          "text": [
            "[1, 4, 9, 16, 25]\n"
          ]
        }
      ]
    },
    {
      "cell_type": "code",
      "source": [
        "l=[x for x in range(5)]\n",
        "print(l)"
      ],
      "metadata": {
        "colab": {
          "base_uri": "https://localhost:8080/"
        },
        "id": "hZWGOcc6Swy5",
        "outputId": "6f720128-4f91-4bcd-c1b0-4346efd968ff"
      },
      "execution_count": 27,
      "outputs": [
        {
          "output_type": "stream",
          "name": "stdout",
          "text": [
            "[0, 1, 2, 3, 4]\n"
          ]
        }
      ]
    },
    {
      "cell_type": "code",
      "source": [
        "l=[1,2,3,4,5,6,7,8,9]\n",
        "print(l[-1:-9:-1])\n",
        "print(l[2:8])\n",
        "print(l[::2])\n",
        "print(l[len(l)//2:])\n",
        "print(l[len(l)//2::-1]+l[len(l)//2+1:])\n",
        "for c in range(0,len(l)):\n",
        "  l[c]=l[c]%2\n",
        "print(l)"
      ],
      "metadata": {
        "colab": {
          "base_uri": "https://localhost:8080/"
        },
        "id": "CuBv-t7eS9q5",
        "outputId": "b7719dd4-5d7d-4a4a-be26-65b04d7ed72b"
      },
      "execution_count": 40,
      "outputs": [
        {
          "output_type": "stream",
          "name": "stdout",
          "text": [
            "[9, 8, 7, 6, 5, 4, 3, 2]\n",
            "[3, 4, 5, 6, 7, 8]\n",
            "[1, 3, 5, 7, 9]\n",
            "[5, 6, 7, 8, 9]\n",
            "[5, 4, 3, 2, 1, 6, 7, 8, 9]\n",
            "[1, 0, 1, 0, 1, 0, 1, 0, 1]\n"
          ]
        }
      ]
    },
    {
      "cell_type": "markdown",
      "source": [
        "make pair of two equal length list?"
      ],
      "metadata": {
        "id": "YXBj45YHXM1K"
      }
    },
    {
      "cell_type": "code",
      "source": [
        "l1=[2,3,4]\n",
        "l2=[4,7,8]\n",
        "def map(l1,l2):\n",
        "  if len(l1)==len(l2):\n",
        "    l=[(l1[i],l2[i]) for i in range(len(l1))]\n",
        "    return l\n",
        "print(map(l1,l2))"
      ],
      "metadata": {
        "colab": {
          "base_uri": "https://localhost:8080/"
        },
        "id": "XZHmKSxlXTQa",
        "outputId": "0028aa88-4a49-4bda-c6f0-ee589e7ddbf3"
      },
      "execution_count": 41,
      "outputs": [
        {
          "output_type": "stream",
          "name": "stdout",
          "text": [
            "[(2, 4), (3, 7), (4, 8)]\n"
          ]
        }
      ]
    },
    {
      "cell_type": "markdown",
      "source": [
        "swap first and last character of string and display modified string ?"
      ],
      "metadata": {
        "id": "TLI5e8c3bwan"
      }
    },
    {
      "cell_type": "code",
      "source": [
        "def modify(str):\n",
        "  print(str[-1]+str[1:-1]+str[0])\n",
        "modify(\"stark\")"
      ],
      "metadata": {
        "colab": {
          "base_uri": "https://localhost:8080/"
        },
        "id": "XEUici5Yb706",
        "outputId": "4b8260b3-32bf-486a-fec5-35a2e4ef8776"
      },
      "execution_count": 43,
      "outputs": [
        {
          "output_type": "stream",
          "name": "stdout",
          "text": [
            "ktars\n"
          ]
        }
      ]
    },
    {
      "cell_type": "markdown",
      "source": [
        "program takes strings and calculate number of upper case , lower case , digits?"
      ],
      "metadata": {
        "id": "ISyGZkLxdMem"
      }
    },
    {
      "cell_type": "code",
      "source": [
        "def counter(str):\n",
        "  u=0\n",
        "  l=0\n",
        "  d=0\n",
        "  for c in str:\n",
        "    if c.isupper():\n",
        "      u+=1\n",
        "    elif c.islower():\n",
        "      l+=1\n",
        "    elif c.isdigit():\n",
        "      d+=1\n",
        "    else:\n",
        "      continue\n",
        "\n",
        "  print(\" no. of upper letter\",u)\n",
        "  print(\" no. of lower letter\",l)\n",
        "  print(\" no. of digits\",d)\n",
        "\n",
        "str=input(\"enter a string  --    \")\n",
        "counter(str)"
      ],
      "metadata": {
        "colab": {
          "base_uri": "https://localhost:8080/"
        },
        "id": "TOGN2MDZdakd",
        "outputId": "19add87f-5598-4550-db00-abf0fe623227"
      },
      "execution_count": 46,
      "outputs": [
        {
          "output_type": "stream",
          "name": "stdout",
          "text": [
            "enter a string  --    Hexidn234AS\n",
            " no. of upper letter 3\n",
            " no. of lower letter 5\n",
            " no. of digits 3\n"
          ]
        }
      ]
    },
    {
      "cell_type": "markdown",
      "source": [
        "Write a program to count number of vowels present in sentence?"
      ],
      "metadata": {
        "id": "m7Csi01leNKw"
      }
    },
    {
      "cell_type": "code",
      "source": [
        "s=input(\"enter string --  \")\n",
        "l=[\"a\",\"e\",\"i\",\"o\",\"u\",\"A\",\"E\",\"I\",\"O\",\"U\"]\n",
        "c=0\n",
        "for x in s:\n",
        "  if x in l:\n",
        "    c+=1\n",
        "print(\"no. of vowels are \",c)"
      ],
      "metadata": {
        "colab": {
          "base_uri": "https://localhost:8080/"
        },
        "id": "-wAvgsyue-Wl",
        "outputId": "54a8d47a-cc65-409e-bbb1-bf177587e582"
      },
      "execution_count": 47,
      "outputs": [
        {
          "output_type": "stream",
          "name": "stdout",
          "text": [
            "enter string --  Sanaious\n",
            "no. of vowels are  5\n"
          ]
        }
      ]
    },
    {
      "cell_type": "markdown",
      "source": [
        "Write a program to check wheather string is palindrome or not ?"
      ],
      "metadata": {
        "id": "K8Sy3N5afeAt"
      }
    },
    {
      "cell_type": "code",
      "source": [
        "s=input(\"enter string --  \")\n",
        "if s==s[::-1]:\n",
        "  print(\"palindrome\")\n",
        "else:\n",
        "  print(\"not palindrome\")"
      ],
      "metadata": {
        "colab": {
          "base_uri": "https://localhost:8080/"
        },
        "id": "jQvsEn0kfkTi",
        "outputId": "69bad6de-f33e-4d63-a9ec-45dc0ab91e15"
      },
      "execution_count": 48,
      "outputs": [
        {
          "output_type": "stream",
          "name": "stdout",
          "text": [
            "enter string --  holoh\n",
            "palindrome\n"
          ]
        }
      ]
    },
    {
      "cell_type": "markdown",
      "source": [
        "How you can randomize list in python?"
      ],
      "metadata": {
        "id": "5nsNSq43gNY3"
      }
    },
    {
      "cell_type": "code",
      "source": [
        "import random\n",
        "l=[1,2,3,4,5,6,7,8,9]\n",
        "random.shuffle(l)\n",
        "print(l)"
      ],
      "metadata": {
        "colab": {
          "base_uri": "https://localhost:8080/"
        },
        "id": "2QnGcm40gS_D",
        "outputId": "4c38684b-c24d-4da7-b8f0-919df31367a6"
      },
      "execution_count": 49,
      "outputs": [
        {
          "output_type": "stream",
          "name": "stdout",
          "text": [
            "[3, 5, 6, 4, 9, 8, 2, 7, 1]\n"
          ]
        }
      ]
    },
    {
      "cell_type": "markdown",
      "source": [
        "take multiple line convert it into upper case and store it into list and print it"
      ],
      "metadata": {
        "id": "Ky569PtbgtqA"
      }
    },
    {
      "cell_type": "code",
      "source": [
        "up=[]\n",
        "a=int(input(\"how many lines you want to enter\"))\n",
        "for x in range(a):\n",
        "  s=input(\"enter string --  \")\n",
        "  up.append(s.upper())\n",
        "for c in up:\n",
        "  print(c)"
      ],
      "metadata": {
        "colab": {
          "base_uri": "https://localhost:8080/"
        },
        "id": "xhBOy-nVhbqQ",
        "outputId": "afb4ee01-295e-4451-b605-403fc1d019be"
      },
      "execution_count": 52,
      "outputs": [
        {
          "output_type": "stream",
          "name": "stdout",
          "text": [
            "how many lines you want to enter2\n",
            "enter string --  hello\n",
            "enter string --  world\n",
            "HELLO\n",
            "WORLD\n"
          ]
        }
      ]
    },
    {
      "cell_type": "markdown",
      "source": [
        "program for perfect square?"
      ],
      "metadata": {
        "id": "TtiOuYTciSWI"
      }
    },
    {
      "cell_type": "code",
      "source": [
        "import math\n",
        "def perfect_square(num):\n",
        "  z=math.sqrt(num)\n",
        "  if math.floor(math.sqrt(num))==z:\n",
        "    return True\n",
        "  else:\n",
        "    return False\n",
        "print(perfect_square(16))\n",
        "print(perfect_square(14))"
      ],
      "metadata": {
        "colab": {
          "base_uri": "https://localhost:8080/"
        },
        "id": "Psy5RlcRiWs_",
        "outputId": "4eeda4d2-c208-4cc5-8ab6-d2283a006e9a"
      },
      "execution_count": 60,
      "outputs": [
        {
          "output_type": "stream",
          "name": "stdout",
          "text": [
            "True\n",
            "False\n"
          ]
        }
      ]
    },
    {
      "cell_type": "markdown",
      "source": [
        "join method in python?"
      ],
      "metadata": {
        "id": "0ZqF9yOqkJvW"
      }
    },
    {
      "cell_type": "code",
      "source": [
        "l=[\"M\",\"O\",\"N\",\"K\",\"E\",\"Y\"]\n",
        "print(\"@\".join(l))"
      ],
      "metadata": {
        "colab": {
          "base_uri": "https://localhost:8080/"
        },
        "id": "DugfWNlQkNVS",
        "outputId": "1bf07ec1-297a-4b8f-868e-55730cca409d"
      },
      "execution_count": 61,
      "outputs": [
        {
          "output_type": "stream",
          "name": "stdout",
          "text": [
            "M@O@N@K@E@Y\n"
          ]
        }
      ]
    },
    {
      "cell_type": "markdown",
      "source": [
        "Take comma seperated values as string and sort them in order?"
      ],
      "metadata": {
        "id": "nxE9-oX6lHkM"
      }
    },
    {
      "cell_type": "code",
      "source": [
        "l=input(\"enter comma seperated values\")\n",
        "l=l.split(\",\")\n",
        "l.sort()\n",
        "print(\",\".join(l))"
      ],
      "metadata": {
        "colab": {
          "base_uri": "https://localhost:8080/"
        },
        "id": "POOz1Su0lRX6",
        "outputId": "71ea2b35-4dde-4b1d-df36-ed4a54770b7a"
      },
      "execution_count": 62,
      "outputs": [
        {
          "output_type": "stream",
          "name": "stdout",
          "text": [
            "enter comma seperated valueshello,bag,is,apple\n",
            "apple,bag,hello,is\n"
          ]
        }
      ]
    },
    {
      "cell_type": "markdown",
      "source": [
        "Construct a function ret_smaller(l) that return smaller list from nested list if two list have same length then return the first list that is encountered ."
      ],
      "metadata": {
        "id": "ruPCmu3wnJlN"
      }
    },
    {
      "cell_type": "code",
      "source": [
        "def ret_smaller(l):\n",
        "  if len(l)==0:\n",
        "    return []\n",
        "  else:\n",
        "    smaller=l[0]\n",
        "    for  x in l[1:]:\n",
        "      if len(x)<len(smaller):\n",
        "        smaller=x\n",
        "    return smaller\n",
        "nested_list=[[1,2,3],[4,3,5,2],[3,4],[10]]\n",
        "print(ret_smaller(nested_list))"
      ],
      "metadata": {
        "colab": {
          "base_uri": "https://localhost:8080/"
        },
        "id": "BwAkrerCnpgN",
        "outputId": "666f08dc-6226-4606-d426-fe52df277ffc"
      },
      "execution_count": 64,
      "outputs": [
        {
          "output_type": "stream",
          "name": "stdout",
          "text": [
            "[10]\n"
          ]
        }
      ]
    },
    {
      "cell_type": "markdown",
      "source": [
        "Dictionary basic operation?"
      ],
      "metadata": {
        "id": "ICN_NoNi9MUK"
      }
    },
    {
      "cell_type": "code",
      "source": [
        "dic={1:\"hello\",2:\"world\"}\n",
        "print(dic.items())\n",
        "print(dic.keys())\n",
        "print(dic.values())\n",
        "l={1:\"mohan\"}\n",
        "dic.update(l)\n",
        "print(dic)\n",
        "print(dic.get(1))\n",
        "print(dic.popitem())\n",
        "print(dic)"
      ],
      "metadata": {
        "colab": {
          "base_uri": "https://localhost:8080/"
        },
        "id": "vWOGgi3r9RYn",
        "outputId": "e4981dfd-a8ce-403f-8ac0-cbb8e8b15659"
      },
      "execution_count": 9,
      "outputs": [
        {
          "output_type": "stream",
          "name": "stdout",
          "text": [
            "dict_items([(1, 'hello'), (2, 'world')])\n",
            "dict_keys([1, 2])\n",
            "dict_values(['hello', 'world'])\n",
            "{1: 'mohan', 2: 'world'}\n",
            "mohan\n",
            "(2, 'world')\n",
            "{1: 'mohan'}\n"
          ]
        }
      ]
    },
    {
      "cell_type": "markdown",
      "source": [
        "Write a program to remove kth element form string (\"python\",2)->\"pyhon\""
      ],
      "metadata": {
        "id": "TLH2eOaH_dVv"
      }
    },
    {
      "cell_type": "code",
      "source": [
        "def rem(str,indexv):\n",
        "  s=\"\"\n",
        "  for x in range(len(str)):\n",
        "    if x!=indexv:\n",
        "      s+=str[x]\n",
        "  return s\n",
        "print(rem(\"python\",2))"
      ],
      "metadata": {
        "colab": {
          "base_uri": "https://localhost:8080/"
        },
        "id": "x60eCDDU_t02",
        "outputId": "29918399-2fff-4852-8fd4-6ad2b5d40f45"
      },
      "execution_count": 10,
      "outputs": [
        {
          "output_type": "stream",
          "name": "stdout",
          "text": [
            "pyhon\n"
          ]
        }
      ]
    },
    {
      "cell_type": "markdown",
      "source": [
        "A website requires the users to input username and password to register. Construct a program to check the validity of password input by users. Following are the criteria for checking the password         (Aktu 2023-24 ODD)\n",
        "\n",
        "GW\n",
        "\n",
        "1. At least 1 letter between [a-z]\n",
        "\n",
        "2. At least 1 number between [0-9]\n",
        "\n",
        "3. At least 1 letter between [A-Z]\n",
        "\n",
        "4. At least 1 character from [$#@]\n",
        "\n",
        "5. Minimum length of transaction password: 6\n",
        "\n",
        "6. Maximum length of transaction password: 12\n",
        "\n",
        "7. Your program should accept a sequence of comma separated passwords and will check them according to the above criteria. Passwords that match the criteria are to be printed, each separated by a comma"
      ],
      "metadata": {
        "id": "ZKS9kf4DAgnT"
      }
    },
    {
      "cell_type": "code",
      "source": [
        "def validate(s):\n",
        "  p=s.split(\",\")\n",
        "  for x in p:\n",
        "    if len(x)>=6 and len(x)<=12:\n",
        "      l=0\n",
        "      u=0\n",
        "      d=0\n",
        "      sy=0\n",
        "      for c in x:\n",
        "        if c.islower():\n",
        "          l+=1\n",
        "        elif c.isupper():\n",
        "          u+=1\n",
        "        elif c.isdigit():\n",
        "          d+=1\n",
        "        elif c==\"@\" or c==\"$\" or c==\"#\":\n",
        "          sy+=1\n",
        "        else:\n",
        "          continue\n",
        "      if l>0 and u>0 and d>0 and sy>0:\n",
        "        print(x)\n",
        "s=\"HELLO,hexl,heLlo123$\"\n",
        "validate(s)"
      ],
      "metadata": {
        "colab": {
          "base_uri": "https://localhost:8080/"
        },
        "id": "4_eZQfghAqX-",
        "outputId": "95a6d7f4-66cc-4d5d-95d9-4f35a28d43cf"
      },
      "execution_count": 19,
      "outputs": [
        {
          "output_type": "stream",
          "name": "stdout",
          "text": [
            "heLlo123$\n"
          ]
        }
      ]
    },
    {
      "cell_type": "markdown",
      "source": [
        "Ques. Write a python function, search Many(s,x,k) that takes an argument a sequence sand\n",
        "\n",
        "GW\n",
        "\n",
        "integersx,k(k>0) the function returns true if there are.. k occurrences of x in s.otherwise it returns\n",
        "false search Many ([10,17,15,12],15,1) return true, searchMany([10,12,12,12],12,2) return falseAKTU\n",
        "\n",
        "(2020-21)"
      ],
      "metadata": {
        "id": "DKJ3CcuEByCL"
      }
    },
    {
      "cell_type": "code",
      "source": [
        "def searchmany(s,x,k):\n",
        "  count=0\n",
        "  for c in s:\n",
        "    if c==x:\n",
        "      count+=1\n",
        "  if count==k:\n",
        "    return True\n",
        "  else:\n",
        "    return False\n",
        "print(searchmany([10,17,15,12],15,1))\n",
        "print(searchmany([10,12,12,12],12,2))"
      ],
      "metadata": {
        "colab": {
          "base_uri": "https://localhost:8080/"
        },
        "id": "c2PpBY3QB18e",
        "outputId": "47e8982f-1323-44d2-ec0f-3e90546a9245"
      },
      "execution_count": 15,
      "outputs": [
        {
          "output_type": "stream",
          "name": "stdout",
          "text": [
            "True\n",
            "False\n"
          ]
        }
      ]
    },
    {
      "cell_type": "markdown",
      "source": [],
      "metadata": {
        "id": "l2RJaucqB2T7"
      }
    },
    {
      "cell_type": "markdown",
      "source": [
        "Write a python program,count_square(N) that returns the count of perfect square less than or equal to N(N>=1) for example count_square(1) return 1 only prefect square less than equal to 1 count_square(5) return 2 (1, 4 are the prefect square less than equal to 2 count_square(55) return 7 (1,4,9,16,25,36,49)<=55 AKTU (2020-21)"
      ],
      "metadata": {
        "id": "c0QEEUXTB5Ue"
      }
    },
    {
      "cell_type": "code",
      "source": [
        "def cis(num):\n",
        "  if num<1:\n",
        "    return 0\n",
        "  elif num==1:\n",
        "    return 1\n",
        "  else:\n",
        "    l=[]\n",
        "    c=1\n",
        "    count=1\n",
        "    while(num>count):\n",
        "      l.append(c**2)\n",
        "      c+=1\n",
        "      count=c**2\n",
        "    return len(l)\n",
        "print(cis(1))\n",
        "print(cis(5))\n",
        "print(cis(55))"
      ],
      "metadata": {
        "colab": {
          "base_uri": "https://localhost:8080/"
        },
        "id": "FwTzKwmoB76h",
        "outputId": "ca57353b-9285-4059-8718-44b3d8e515bc"
      },
      "execution_count": 22,
      "outputs": [
        {
          "output_type": "stream",
          "name": "stdout",
          "text": [
            "1\n",
            "2\n",
            "7\n"
          ]
        }
      ]
    },
    {
      "cell_type": "markdown",
      "source": [
        "Write a program factor(N) that return a list of all positive divisor of N (N>=1). AKTU (2020-21)"
      ],
      "metadata": {
        "id": "GxVtha2uB8OU"
      }
    },
    {
      "cell_type": "code",
      "source": [
        "def factor(n):\n",
        "  l=[]\n",
        "  for c in range(1,n+1):\n",
        "    if n%c==0:\n",
        "      l.append(c)\n",
        "  return l\n",
        "print(factor(10))"
      ],
      "metadata": {
        "colab": {
          "base_uri": "https://localhost:8080/"
        },
        "id": "DpcOyHFDB_xF",
        "outputId": "8141a797-0872-48ae-8657-b651a8a66f4e"
      },
      "execution_count": 13,
      "outputs": [
        {
          "output_type": "stream",
          "name": "stdout",
          "text": [
            "[1, 2, 5, 10]\n"
          ]
        }
      ]
    },
    {
      "cell_type": "markdown",
      "source": [
        "Write a python program to add item in a tuple. AKTU (2019-20)"
      ],
      "metadata": {
        "id": "kigjMf97CAGQ"
      }
    },
    {
      "cell_type": "code",
      "source": [
        "t=(1,3,4,2)\n",
        "l=list(t)\n",
        "l.append(5)\n",
        "t=tuple(l)\n",
        "print(t)"
      ],
      "metadata": {
        "colab": {
          "base_uri": "https://localhost:8080/"
        },
        "id": "eHQcIJS0CEbW",
        "outputId": "6a7293c4-ce80-40c4-c151-e96880ef22cf"
      },
      "execution_count": 11,
      "outputs": [
        {
          "output_type": "stream",
          "name": "stdout",
          "text": [
            "(1, 3, 4, 2, 5)\n"
          ]
        }
      ]
    }
  ]
}